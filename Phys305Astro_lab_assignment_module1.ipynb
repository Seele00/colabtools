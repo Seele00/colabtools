{
  "nbformat": 4,
  "nbformat_minor": 0,
  "metadata": {
    "colab": {
      "name": "Phys305Astro lab_assignment_module1.ipynb",
      "provenance": [],
      "include_colab_link": true
    },
    "kernelspec": {
      "name": "python3",
      "display_name": "Python 3"
    }
  },
  "cells": [
    {
      "cell_type": "markdown",
      "metadata": {
        "id": "view-in-github",
        "colab_type": "text"
      },
      "source": [
        "<a href=\"https://colab.research.google.com/github/Seele00/colabtools/blob/master/Phys305Astro_lab_assignment_module1.ipynb\" target=\"_parent\"><img src=\"https://colab.research.google.com/assets/colab-badge.svg\" alt=\"Open In Colab\"/></a>"
      ]
    },
    {
      "cell_type": "markdown",
      "metadata": {
        "id": "ST5d6dw3dLZh",
        "colab_type": "text"
      },
      "source": [
        "# **PS305 Lab Assignment** \n",
        "## Module 1: Image Stacking to Detect Pulsars in Radio Surveys\n",
        "\n",
        "_Instructions_: Answer each part of the assignment as completely as you can. Discuss **all** your code and results as clearly and concisely as possible. \n",
        "\n",
        "_Scoring Criteria_: 50% - *correctness of code*; 50% - *discussion of the code and results*. Maximum score is **100 points** (Parts 1 and 2 are worth 50 points each).\n",
        "\n",
        "_Due Date_: **5PM of September 24 (Thu)**\n",
        "\n",
        "_Credits_: This assignment is based on the Week 1 module of the Coursera course \"Data-driven Astronomy\", \"Calculating the Mean Stack\" ([link](https://www.coursera.org/learn/data-driven-astronomy/home/welcome))"
      ]
    },
    {
      "cell_type": "markdown",
      "metadata": {
        "id": "iZZaEzKHdVYG",
        "colab_type": "text"
      },
      "source": [
        "### Student Information \n",
        "\n",
        "_Full Name (Last Name, First Name)_: Dizon, Gabriel Luis\\\n",
        "_Student No._: 2011-18116\\\n",
        "_Section_:"
      ]
    },
    {
      "cell_type": "markdown",
      "metadata": {
        "id": "Xv1STpPodaDL",
        "colab_type": "text"
      },
      "source": [
        "### Submission Information\n",
        "\n",
        "_Date and Time Submitted (most recent upload)_: \n",
        "\n",
        "**HONOR PLEDGE** I affirm that I have upheld the highest principles of honesty and integrity in my academic work and that this lab assignment is my own work.\n",
        "\n",
        "**Sign here with your full name:** "
      ]
    },
    {
      "cell_type": "markdown",
      "metadata": {
        "id": "8zw1kC_rdoHT",
        "colab_type": "text"
      },
      "source": [
        "### Grading Information (c/o Instructor)\n",
        "\n",
        "TOTAL SCORE: **[]**/100\n",
        "\n",
        "Score breakdown:\n",
        "* Part 1 - []/50\n",
        "* Part 2 - []/50\n",
        "\n",
        "_Date and Time Scored (MM/DD/YYYY HH:MM AM/PM):_ 0"
      ]
    },
    {
      "cell_type": "markdown",
      "metadata": {
        "id": "UNaYs-MfeDRl",
        "colab_type": "text"
      },
      "source": [
        "For this assignment, you will work with Flexible Image Transport System (FITS) files-- one of the most widely used formats for astronomical images. In a FITS file, the image is stored in a numerical array, which we can load into a NumPy array. FITS files also have headers which store metadata about the image.\n",
        "\n",
        "FITS files are a standard format and astronomers have developed many libraries (in many programming languages) that can read and write FITS files. We're going to use the Astropy module.\n",
        "\n",
        "First, you need to make a copy of the five (5) FITS files $\\tt image[0-4].fits$ and save it to a folder in your **own Google Drive**. These files are available from the PS305 Course Pack Google Drive (in the General > Datasets folder) and directly from this link: https://drive.google.com/drive/folders/1NECbwE_jtznZXkfOBa94W15MYR0gZfGI?usp=sharing\n",
        "\n",
        "The code cells below will (1) mount your Google Drive and (2) load $\\tt image0.fits$ from your Google Drive folder and visualize the image in image data stored in it. "
      ]
    },
    {
      "cell_type": "markdown",
      "metadata": {
        "id": "ee1mHlUWfcsc",
        "colab_type": "text"
      },
      "source": [
        "Mount the Google Drive where you saved the FITS files. \n",
        "\n",
        "When you run this cell, you will be asked to sign in to your Google account and you will get an authorization code. Paste the code on the provided cell to mount the Google Drive."
      ]
    },
    {
      "cell_type": "code",
      "metadata": {
        "id": "yH0IOwb1YBHc",
        "colab_type": "code",
        "colab": {}
      },
      "source": [
        "from google.colab import drive\n",
        "drive.mount(\"/content/drive\")"
      ],
      "execution_count": null,
      "outputs": []
    },
    {
      "cell_type": "markdown",
      "metadata": {
        "id": "k0C5c-8ofqDu",
        "colab_type": "text"
      },
      "source": [
        "Run this command to list the directories in your Google Drive and check that the mount was successful."
      ]
    },
    {
      "cell_type": "code",
      "metadata": {
        "id": "mzKLlj20fsJu",
        "colab_type": "code",
        "colab": {}
      },
      "source": [
        "!ls drive/My\\ Drive"
      ],
      "execution_count": null,
      "outputs": []
    },
    {
      "cell_type": "markdown",
      "metadata": {
        "id": "XPLuh_jWfju8",
        "colab_type": "text"
      },
      "source": [
        "Define the directory path to the location of the file $\\tt image0.fits$, i.e. if it is in a folder named \"PS305\" under My Drive, then the file path will be \"/content/drive/My Drive/PS305\". Change the string variable in the code cell below, as needed:"
      ]
    },
    {
      "cell_type": "code",
      "metadata": {
        "id": "jRpIuwdigDg5",
        "colab_type": "code",
        "colab": {}
      },
      "source": [
        "file_path = \"/content/drive/My Drive/PS305/\""
      ],
      "execution_count": null,
      "outputs": []
    },
    {
      "cell_type": "markdown",
      "metadata": {
        "id": "VW7RFRGaik-6",
        "colab_type": "text"
      },
      "source": [
        "Now, we can load $\\tt image0.fits$ and print out its header information"
      ]
    },
    {
      "cell_type": "code",
      "metadata": {
        "id": "kxU8S2OQErHP",
        "colab_type": "code",
        "colab": {}
      },
      "source": [
        "from astropy.io import fits\n",
        "import matplotlib.pyplot as plt\n",
        "\n",
        "hdulist = fits.open(file_path + 'image0.fits')\n",
        "hdulist.info()"
      ],
      "execution_count": null,
      "outputs": []
    },
    {
      "cell_type": "markdown",
      "metadata": {
        "id": "wT35e4ViEv8-",
        "colab_type": "text"
      },
      "source": [
        "Next, we will access the individual HDU (Header/Data Unit) by indexing the HDU list object returned by $\\tt fits.open$. Then, we visualise the image data stored in FITS files using the plotting library matplotlib. The image data can be accessed using the data attribute.\n",
        "\n",
        "The cell below creates a 2D plot from the FITS image:"
      ]
    },
    {
      "cell_type": "code",
      "metadata": {
        "id": "y61tYmPIimUv",
        "colab_type": "code",
        "colab": {}
      },
      "source": [
        "data = hdulist[0].data\n",
        "\n",
        "# Plot the 2D image data\n",
        "plt.imshow(data.T, cmap=plt.cm.viridis)\n",
        "plt.colorbar()\n",
        "plt.show()"
      ],
      "execution_count": null,
      "outputs": []
    },
    {
      "cell_type": "markdown",
      "metadata": {
        "id": "_eq2V7xzFtq7",
        "colab_type": "text"
      },
      "source": [
        "In this assignment, you will calculate the mean of a stack of FITS files with images of the same pulsar. Each individual file may or may not have a detected pulsar, but in the final stack you should be able to see a clear detection.\n",
        "\n",
        "#### PART 1 - Calculate the mean stack\n",
        "\n",
        "Write a ```mean_fits``` function that takes a list of FITS files (including the file path for Google Drive access) as an argument, reads them in, and returns the mean image data of the FITS files. Your function should be able to process an arbitrary number of files.\n",
        "\n",
        "All the images have the same dimensions (200 x 200) and your calculated mean array should match those dimensions.  \n",
        "\n",
        "Run the ff. commands that runs your function for the five (5) given FITS files and prints out the central value of your returned array, which is where we expect the pulsar to be. (Hint: The answer should be 0.014150320738554)\n",
        "\n",
        "```\n",
        "data = mean_fits(['image0.fits', 'image1.fits', 'image2.fits', 'image3.fits', 'image4.fits'])\n",
        "print(data[100, 100])\n",
        "```\n",
        "Discuss each section of your code clearly and concisely (in text cells, in your own words). *(50 points; 25 points each for the code and discussion)*"
      ]
    },
    {
      "cell_type": "code",
      "metadata": {
        "id": "mfMtufdukBnu",
        "colab_type": "code",
        "colab": {}
      },
      "source": [
        ""
      ],
      "execution_count": null,
      "outputs": []
    },
    {
      "cell_type": "markdown",
      "metadata": {
        "id": "JNcXnDAJHW5N",
        "colab_type": "text"
      },
      "source": [
        "#### PART 2 - Visualize the stacked image\n",
        "\n",
        "Plot the output stacked image and describe what you see. *(50 points; 25 points each for the code and discussion)*"
      ]
    },
    {
      "cell_type": "code",
      "metadata": {
        "id": "2hU9drbdHWVS",
        "colab_type": "code",
        "colab": {}
      },
      "source": [
        ""
      ],
      "execution_count": null,
      "outputs": []
    },
    {
      "cell_type": "markdown",
      "metadata": {
        "id": "u8qG6aExd6np",
        "colab_type": "text"
      },
      "source": [
        "[SCORE BREAKDOWN] \n",
        "\n",
        "Part 1:\n",
        "* Correctness of Code: []/25\n",
        "* Discussion: []/25\n",
        "* Subtotal: []/50\n",
        "\n",
        "Part 2:\n",
        "* Correctness of Code: []/25\n",
        "* Discussion: []/25\n",
        "* Subtotal: []/50\n",
        "\n",
        "Feedback: "
      ]
    }
  ]
}